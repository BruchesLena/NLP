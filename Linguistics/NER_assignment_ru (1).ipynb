{
  "nbformat": 4,
  "nbformat_minor": 0,
  "metadata": {
    "colab": {
      "name": "NER_assignment_ru.ipynb",
      "provenance": []
    },
    "kernelspec": {
      "name": "python3",
      "display_name": "Python 3"
    }
  },
  "cells": [
    {
      "cell_type": "markdown",
      "metadata": {
        "id": "_RmJQVUMa8x-",
        "colab_type": "text"
      },
      "source": [
        "# Извлечение именованных сущностей\n",
        "\n"
      ]
    },
    {
      "cell_type": "markdown",
      "metadata": {
        "id": "2SQFZW0jBvhX",
        "colab_type": "text"
      },
      "source": [
        "## Word shape encoding\n",
        "\n",
        "Напишите функцию, которая принимает на вход строку и возвращает её word shape (не short word shape):"
      ]
    },
    {
      "cell_type": "code",
      "metadata": {
        "id": "p1rqaHuBCB9p",
        "colab_type": "code",
        "colab": {}
      },
      "source": [
        "def get_word_shape(word):\n",
        "  word_shape = ''\n",
        "  # your code\n",
        "\n",
        "  return word_shape\n"
      ],
      "execution_count": 0,
      "outputs": []
    },
    {
      "cell_type": "markdown",
      "metadata": {
        "id": "h4HGN5uYCQTn",
        "colab_type": "text"
      },
      "source": [
        "Запустите код ниже, чтобы убедиться, что Ваша функция работает верно:"
      ]
    },
    {
      "cell_type": "code",
      "metadata": {
        "id": "5lX1izKECXfd",
        "colab_type": "code",
        "colab": {}
      },
      "source": [
        "assert 'XXX' == get_word_shape('NSU')\n",
        "assert 'Xd Xxxxxxxx' == get_word_shape('S7 Airlines')\n",
        "assert 'X&X' == get_word_shape('D&G')"
      ],
      "execution_count": 0,
      "outputs": []
    },
    {
      "cell_type": "markdown",
      "metadata": {
        "id": "NkYyRXw7EMye",
        "colab_type": "text"
      },
      "source": [
        "# Flair"
      ]
    },
    {
      "cell_type": "markdown",
      "metadata": {
        "id": "2YSEb_6UBt6v",
        "colab_type": "text"
      },
      "source": [
        "В этом задании мы протестируем библиотеку для обработки текстов Flair, которая на данный момент показывает State-of-the-art во многих задачах, включая распознавание именованных сущностей.\n",
        "\n",
        "Для начала, найдите текст на английском языке, содержащий различные именованные сущности (это может быть новостная статья, статья из Википедии и т.д.) и загрузите файл .txt с этим текстом сюда.\n",
        "\n",
        "Для этого на вкладке слева нажмите Files -> Upload . Ваш файл будет доступен по его названию:"
      ]
    },
    {
      "cell_type": "code",
      "metadata": {
        "id": "h8F1Vtv2cZRL",
        "colab_type": "code",
        "colab": {}
      },
      "source": [
        "file_name = ''\n",
        "with open(file_name, 'r') as f:\n",
        "  print(f.read())"
      ],
      "execution_count": 0,
      "outputs": []
    },
    {
      "cell_type": "markdown",
      "metadata": {
        "id": "NsJl_yAcbddf",
        "colab_type": "text"
      },
      "source": [
        "Теперь установим Flair:"
      ]
    },
    {
      "cell_type": "code",
      "metadata": {
        "id": "YjPrx_b7VAgE",
        "colab_type": "code",
        "colab": {}
      },
      "source": [
        "!pip install flair"
      ],
      "execution_count": 0,
      "outputs": []
    },
    {
      "cell_type": "code",
      "metadata": {
        "id": "ZRagzMEDWARM",
        "colab_type": "code",
        "colab": {}
      },
      "source": [
        "from flair.data import Sentence\n",
        "from flair.models import SequenceTagger\n",
        "\n",
        "# make a sentence\n",
        "sentence = Sentence('I study in NSU .')\n",
        "\n",
        "# load the NER tagger\n",
        "tagger = SequenceTagger.load('ner')\n",
        "\n",
        "# run NER over sentence\n",
        "tagger.predict(sentence)"
      ],
      "execution_count": 0,
      "outputs": []
    },
    {
      "cell_type": "markdown",
      "metadata": {
        "id": "dvEwBPzPbi1i",
        "colab_type": "text"
      },
      "source": [
        "Обратите внимание, что Flair разбивает предложение на токены по пробелам."
      ]
    },
    {
      "cell_type": "code",
      "metadata": {
        "id": "3fw2TG_mWvvp",
        "colab_type": "code",
        "colab": {}
      },
      "source": [
        "for token in sentence:\n",
        "  print (token.get_tag('ner'))"
      ],
      "execution_count": 0,
      "outputs": []
    },
    {
      "cell_type": "markdown",
      "metadata": {
        "id": "yb1AKFCfbr-a",
        "colab_type": "text"
      },
      "source": [
        "Теперь посчитайте, сколько раз каждая сущность встречается в тексте, который Вы загрузили выше.\n",
        "\n",
        "Обратите внимание, что сущность, состоящую из нескольких токенов (например, Novosibirsk State University), нужно рассматривать как одну целую сущность!"
      ]
    },
    {
      "cell_type": "code",
      "metadata": {
        "id": "NbPd9wtBXgij",
        "colab_type": "code",
        "colab": {}
      },
      "source": [
        "# your code"
      ],
      "execution_count": 0,
      "outputs": []
    }
  ]
}